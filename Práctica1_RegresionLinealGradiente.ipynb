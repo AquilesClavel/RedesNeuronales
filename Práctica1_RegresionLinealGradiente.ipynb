{
  "nbformat": 4,
  "nbformat_minor": 0,
  "metadata": {
    "colab": {
      "provenance": [],
      "authorship_tag": "ABX9TyO0TADGk6WoJO7Yhh7m2WpV",
      "include_colab_link": true
    },
    "kernelspec": {
      "name": "python3",
      "display_name": "Python 3"
    },
    "language_info": {
      "name": "python"
    }
  },
  "cells": [
    {
      "cell_type": "markdown",
      "metadata": {
        "id": "view-in-github",
        "colab_type": "text"
      },
      "source": [
        "<a href=\"https://colab.research.google.com/github/AquilesClavel/RedesNeuronales/blob/main/Pr%C3%A1ctica1_RegresionLinealGradiente.ipynb\" target=\"_parent\"><img src=\"https://colab.research.google.com/assets/colab-badge.svg\" alt=\"Open In Colab\"/></a>"
      ]
    },
    {
      "cell_type": "markdown",
      "source": [
        "# Práctica 1 Regresión Lineal con Gradiente Descendiente\n"
      ],
      "metadata": {
        "id": "IBTg2hs2buIX"
      }
    },
    {
      "cell_type": "code",
      "execution_count": null,
      "metadata": {
        "id": "lYRUj9pHboKp"
      },
      "outputs": [],
      "source": []
    }
  ]
}